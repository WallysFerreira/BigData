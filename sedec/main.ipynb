{
 "cells": [
  {
   "cell_type": "markdown",
   "metadata": {},
   "source": [
    "# Roteiro\n",
    "\n",
    "- Carregar base de dados [ ]\n",
    "- Contar a quantidade de dados de teste [ ]\n",
    "- Selecionar as colunas relevantes [ ]\n",
    "- Tratar os dados ausentes e de teste [ ]\n",
    "- Transformar os dados (data) [ ]\n",
    "- Ver quais bairros tem mais atendimentos concluídos [ ]\n",
    "- Ver a quantidade de chamados por época do ano [ ]\n"
   ]
  },
  {
   "cell_type": "code",
   "execution_count": null,
   "metadata": {},
   "outputs": [],
   "source": []
  }
 ],
 "metadata": {
  "language_info": {
   "name": "python"
  }
 },
 "nbformat": 4,
 "nbformat_minor": 2
}
