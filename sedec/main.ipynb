{
 "cells": [
  {
   "cell_type": "markdown",
   "metadata": {},
   "source": [
    "## Roteiro\n",
    "- Carregar base de dados [x]\n",
    "- Contar a quantidade de dados de teste [x]\n",
    "- Selecionar as colunas relevantes [ ]\n",
    "- Tratar os dados ausentes e de teste [ ]\n",
    "- Transformar os dados (data) [ ]\n",
    "- Ver quais bairros tem mais atendimentos concluídos [ ]\n",
    "- Ver a quantidade de chamados por época do ano [ ]\n"
   ]
  },
  {
   "cell_type": "code",
   "execution_count": 23,
   "metadata": {},
   "outputs": [
    {
     "data": {
      "text/plain": [
       "29"
      ]
     },
     "execution_count": 23,
     "metadata": {},
     "output_type": "execute_result"
    }
   ],
   "source": [
    "import pandas as pd\n",
    "chamados = pd.read_csv(\"ChamadosSedec.csv\", sep=\";\", parse_dates=['solicitacao_data'], dayfirst=True)"
   ]
  },
  {
   "cell_type": "code",
   "execution_count": 35,
   "metadata": {},
   "outputs": [],
   "source": [
    "testes_pela_descricao = chamados.query('solicitacao_descricao == \"teste\" or solicitacao_descricao == \"TESTE\" or solicitacao_descricao == \"texte\"').shape[0]\n",
    "testes_pelo_roteiro = chamados.query('solicitacao_roteiro == \"TESTE.\" or solicitacao_roteiro == \"aaaa\"').shape[0]\n",
    "\n",
    "total_testes = testes_pelo_roteiro + testes_pela_descricao"
   ]
  },
  {
   "cell_type": "code",
   "execution_count": null,
   "metadata": {},
   "outputs": [],
   "source": []
  }
 ],
 "metadata": {
  "kernelspec": {
   "display_name": "Python 3",
   "language": "python",
   "name": "python3"
  },
  "language_info": {
   "codemirror_mode": {
    "name": "ipython",
    "version": 3
   },
   "file_extension": ".py",
   "mimetype": "text/x-python",
   "name": "python",
   "nbconvert_exporter": "python",
   "pygments_lexer": "ipython3",
   "version": "3.10.8"
  }
 },
 "nbformat": 4,
 "nbformat_minor": 2
}
