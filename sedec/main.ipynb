{
 "cells": [
  {
   "cell_type": "markdown",
   "metadata": {},
   "source": [
    "## Roteiro\n",
    "- Carregar base de dados [x]\n",
    "- Contar a quantidade de dados de teste [x]\n",
    "- Selecionar as colunas relevantes [x]\n",
    "- Tratar os dados ausentes e de teste [ ]\n",
    "- Transformar os dados (data) [ ]\n",
    "- Ver quais bairros tem mais atendimentos concluídos [ ]\n",
    "- Ver a quantidade de chamados por época do ano [ ]\n"
   ]
  },
  {
   "cell_type": "code",
   "execution_count": 49,
   "metadata": {},
   "outputs": [],
   "source": [
    "import pandas as pd\n",
    "chamados = pd.read_csv(\"ChamadosSedec.csv\", sep=\";\", parse_dates=['solicitacao_data'], dayfirst=True)"
   ]
  },
  {
   "cell_type": "code",
   "execution_count": 68,
   "metadata": {},
   "outputs": [],
   "source": [
    "# Selecionar os chamados que são testes\n",
    "testes = chamados.query('solicitacao_descricao.str.contains(\"teste\") or solicitacao_descricao.str.contains(\"TESTE\") or solicitacao_roteiro.str.contains(\"teste\") or solicitacao_roteiro.str.contains(\"TESTE\")')\n",
    "testes = testes.query('not solicitacao_descricao.str.contains(\"solicita \") and not solicitacao_descricao.str.contains(\"SOLICITA \") and not solicitacao_descricao.str.contains(\"VISTORIA\") and not solicitacao_descricao.str.contains(\"USUÁRIA\")')\n",
    "\n",
    "# Pegar a quantidade de linhas\n",
    "qntd_testes = testes.shape[0]"
   ]
  },
  {
   "cell_type": "code",
   "execution_count": null,
   "metadata": {},
   "outputs": [],
   "source": [
    "# Retirar colunas nao relevantes\n",
    "chamados = chamados.drop(columns=['ano', 'mes', 'processo_numero', 'solicitacao_descricao', 'solicitacao_regional', 'solicitacao_localidade', 'solicitacao_endereco', 'solicitacao_roteiro', 'rpa_nome', 'solicitacao_microrregiao', 'solicitacao_plantao', 'processo_origem'])"
   ]
  },
  {
   "cell_type": "code",
   "execution_count": 47,
   "metadata": {},
   "outputs": [
    {
     "data": {
      "text/html": [
       "<div>\n",
       "<style scoped>\n",
       "    .dataframe tbody tr th:only-of-type {\n",
       "        vertical-align: middle;\n",
       "    }\n",
       "\n",
       "    .dataframe tbody tr th {\n",
       "        vertical-align: top;\n",
       "    }\n",
       "\n",
       "    .dataframe thead th {\n",
       "        text-align: right;\n",
       "    }\n",
       "</style>\n",
       "<table border=\"1\" class=\"dataframe\">\n",
       "  <thead>\n",
       "    <tr style=\"text-align: right;\">\n",
       "      <th></th>\n",
       "      <th>solicitacao_data</th>\n",
       "      <th>solicitacao_hora</th>\n",
       "      <th>solicitacao_bairro</th>\n",
       "      <th>rpa_codigo</th>\n",
       "      <th>processo_situacao</th>\n",
       "      <th>processo_tipo</th>\n",
       "      <th>processo_solicitacao</th>\n",
       "    </tr>\n",
       "  </thead>\n",
       "  <tbody>\n",
       "    <tr>\n",
       "      <th>0</th>\n",
       "      <td>2023-02-07</td>\n",
       "      <td>15:07</td>\n",
       "      <td>AFLITOS</td>\n",
       "      <td>3</td>\n",
       "      <td>execucao</td>\n",
       "      <td>ATENDIMENTO</td>\n",
       "      <td>Vistoria</td>\n",
       "    </tr>\n",
       "    <tr>\n",
       "      <th>1</th>\n",
       "      <td>2023-01-24</td>\n",
       "      <td>06:27</td>\n",
       "      <td>AFLITOS</td>\n",
       "      <td>3</td>\n",
       "      <td>execucao</td>\n",
       "      <td>ATENDIMENTO</td>\n",
       "      <td>Vistoria</td>\n",
       "    </tr>\n",
       "    <tr>\n",
       "      <th>2</th>\n",
       "      <td>2022-08-30</td>\n",
       "      <td>12:19</td>\n",
       "      <td>AFLITOS</td>\n",
       "      <td>3</td>\n",
       "      <td>NaN</td>\n",
       "      <td>MONITORAMENTO</td>\n",
       "      <td>Vistoria</td>\n",
       "    </tr>\n",
       "    <tr>\n",
       "      <th>3</th>\n",
       "      <td>2022-03-06</td>\n",
       "      <td>20:41</td>\n",
       "      <td>AFLITOS</td>\n",
       "      <td>3</td>\n",
       "      <td>execucao</td>\n",
       "      <td>ATENDIMENTO</td>\n",
       "      <td>Vistoria</td>\n",
       "    </tr>\n",
       "    <tr>\n",
       "      <th>4</th>\n",
       "      <td>2022-01-31</td>\n",
       "      <td>16:03</td>\n",
       "      <td>AFLITOS</td>\n",
       "      <td>3</td>\n",
       "      <td>execucao</td>\n",
       "      <td>ATENDIMENTO</td>\n",
       "      <td>Vistoria</td>\n",
       "    </tr>\n",
       "  </tbody>\n",
       "</table>\n",
       "</div>"
      ],
      "text/plain": [
       "  solicitacao_data solicitacao_hora solicitacao_bairro rpa_codigo  \\\n",
       "0       2023-02-07            15:07            AFLITOS          3   \n",
       "1       2023-01-24            06:27            AFLITOS          3   \n",
       "2       2022-08-30            12:19            AFLITOS          3   \n",
       "3       2022-03-06            20:41            AFLITOS          3   \n",
       "4       2022-01-31            16:03            AFLITOS          3   \n",
       "\n",
       "  processo_situacao  processo_tipo processo_solicitacao  \n",
       "0          execucao    ATENDIMENTO             Vistoria  \n",
       "1          execucao    ATENDIMENTO             Vistoria  \n",
       "2               NaN  MONITORAMENTO             Vistoria  \n",
       "3          execucao    ATENDIMENTO             Vistoria  \n",
       "4          execucao    ATENDIMENTO             Vistoria  "
      ]
     },
     "execution_count": 47,
     "metadata": {},
     "output_type": "execute_result"
    }
   ],
   "source": [
    "chamados.head()"
   ]
  }
 ],
 "metadata": {
  "kernelspec": {
   "display_name": "Python 3",
   "language": "python",
   "name": "python3"
  },
  "language_info": {
   "codemirror_mode": {
    "name": "ipython",
    "version": 3
   },
   "file_extension": ".py",
   "mimetype": "text/x-python",
   "name": "python",
   "nbconvert_exporter": "python",
   "pygments_lexer": "ipython3",
   "version": "3.10.8"
  }
 },
 "nbformat": 4,
 "nbformat_minor": 2
}
