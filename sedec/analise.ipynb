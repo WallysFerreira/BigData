{
 "cells": [
  {
   "cell_type": "markdown",
   "metadata": {},
   "source": [
    "# Análise\n",
    "\n",
    "- Ver quais bairros tem mais atendimentos concluídos [ ]\n",
    "- Ver a quantidade de chamados por época do ano [ ]\n",
    "- Criar graficos com matplotlib [ ]"
   ]
  },
  {
   "cell_type": "code",
   "execution_count": null,
   "metadata": {},
   "outputs": [],
   "source": []
  }
 ],
 "metadata": {
  "language_info": {
   "name": "python"
  }
 },
 "nbformat": 4,
 "nbformat_minor": 2
}
