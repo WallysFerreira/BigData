{
 "cells": [
  {
   "cell_type": "markdown",
   "metadata": {},
   "source": [
    "# Atividade 3 - Web Scraping\n",
    "\n",
    "Utilizar a biblioteca BeautifulSoup para fazer webscraping em um site, formando uma base de dados em csv"
   ]
  },
  {
   "cell_type": "markdown",
   "metadata": {},
   "source": [
    "## 1 - Script que salva o historico de scrobbles do last.fm em um arquivo csv"
   ]
  },
  {
   "cell_type": "code",
   "execution_count": 1,
   "metadata": {},
   "outputs": [
    {
     "name": "stdout",
     "output_type": "stream",
     "text": [
      "Heart of the City (Ain't No Love) - JAY-Z\n",
      "Hola' Hovito - JAY-Z\n",
      "U Don't Know - JAY-Z\n",
      "Jigga That Nigga - JAY-Z\n",
      "Girls, Girls, Girls - JAY-Z\n",
      "Izzo (H.O.V.A.) - JAY-Z\n",
      "Takeover - JAY-Z\n",
      "The Ruler's Back - JAY-Z\n",
      "タイムマシーン・ラヴ - Ryuusennkei\n",
      "I Believe (When I Fall in Love It Will Be Forever) - Stevie Wonder\n",
      "Lookin' For Another Pure Love (Album Version) - Stevie Wonder\n",
      "Blame It On The Sun (Album Version) - Stevie Wonder\n",
      "Big Brother (Album Version) - Stevie Wonder\n",
      "Superstition - Stevie Wonder\n",
      "You've Got It Bad Girl (Album Version) - Stevie Wonder\n",
      "Tuesday Heartbreak (Album Version) - Stevie Wonder\n",
      "You and I - Stevie Wonder\n",
      "Maybe Your Baby (Album Version) - Stevie Wonder\n",
      "You Are the Sunshine of My Life - Stevie Wonder\n",
      "Reaching 2 - Eden\n",
      "Elsewhere - Eden\n",
      "Duvidha - Eden\n",
      "call me back - Eden\n",
      "PS1 - Eden\n",
      "Closer 2 - Eden\n",
      "Waiting Room - Eden\n",
      "modern warfare - Eden\n",
      "Sci-Fi - Eden\n",
      "Balling - Eden\n",
      "A Call - Eden\n",
      "video games - Between Friends\n",
      "ok - Between Friends\n",
      "prescription - Between Friends\n",
      "tremolo - Between Friends\n",
      "sliding - Between Friends\n",
      "headache - Between Friends\n",
      "day dreaming - Between Friends\n",
      "ae86 - Between Friends\n",
      "gushers - Between Friends\n",
      "princess - Between Friends\n",
      "so into u - Between Friends\n",
      "i always had a thing for you - Between Friends\n",
      "i like you - Between Friends\n",
      "band_on_tha_run - Between Friends\n",
      "stay inside remix - Between Friends\n",
      "tired of your love - Between Friends\n",
      "reference bounce - Between Friends\n",
      "shiny - Between Friends\n",
      "lonely - Between Friends\n",
      "down - Between Friends\n"
     ]
    }
   ],
   "source": [
    "import csv\n",
    "import requests\n",
    "from bs4 import BeautifulSoup\n",
    "\n",
    "url = \"https://www.last.fm/user/Coopyland/library\"\n",
    "response = requests.get(url)\n",
    "if response.status_code == 200:\n",
    "    soup = BeautifulSoup(response.text, \"html.parser\")\n",
    "    musicas = soup.find_all(class_=\"chartlist-row\")\n",
    "\n",
    "    file = open(\"../data/historico.csv\", 'w', newline='')\n",
    "    writer = csv.writer(file)\n",
    "    headers = ['Musica', 'Artista']\n",
    "\n",
    "    writer.writerow(headers)\n",
    "\n",
    "    for musica in musicas:\n",
    "        nome_da_musica = musica.find(class_=\"chartlist-name\").a.get('title')\n",
    "        nome_do_artista = musica.find(class_=\"chartlist-artist\").a.get('title')\n",
    "\n",
    "        writer.writerow([nome_da_musica] + [nome_do_artista])\n",
    "        print(nome_da_musica + ' - ' + nome_do_artista)\n",
    "else:\n",
    "    print(\"Não foi possível acessar a página\")"
   ]
  }
 ],
 "metadata": {
  "kernelspec": {
   "display_name": "Python 3.10.4 64-bit",
   "language": "python",
   "name": "python3"
  },
  "language_info": {
   "codemirror_mode": {
    "name": "ipython",
    "version": 3
   },
   "file_extension": ".py",
   "mimetype": "text/x-python",
   "name": "python",
   "nbconvert_exporter": "python",
   "pygments_lexer": "ipython3",
   "version": "3.10.8"
  },
  "orig_nbformat": 4,
  "vscode": {
   "interpreter": {
    "hash": "3ad933181bd8a04b432d3370b9dc3b0662ad032c4dfaa4e4f1596c548f763858"
   }
  }
 },
 "nbformat": 4,
 "nbformat_minor": 2
}
