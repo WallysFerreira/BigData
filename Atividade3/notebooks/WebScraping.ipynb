{
 "cells": [
  {
   "cell_type": "markdown",
   "metadata": {},
   "source": [
    "# Atividade 3 - Web Scraping\n",
    "\n",
    "Utilizar a biblioteca BeautifulSoup para fazer webscraping em um site, formando uma base de dados em csv"
   ]
  },
  {
   "cell_type": "markdown",
   "metadata": {},
   "source": [
    "## 1 - Script que salva o historico de scrobbles do last.fm em um arquivo csv"
   ]
  },
  {
   "cell_type": "code",
   "execution_count": 4,
   "metadata": {},
   "outputs": [
    {
     "name": "stdout",
     "output_type": "stream",
     "text": [
      "Heart of the City (Ain't No Love) - JAY-Z, The Blueprint (Explicit Version)\n",
      "Hola' Hovito - JAY-Z, The Blueprint (Explicit Version)\n",
      "U Don't Know - JAY-Z, The Blueprint (Explicit Version)\n",
      "Jigga That Nigga - JAY-Z, The Blueprint (Explicit Version)\n",
      "Girls, Girls, Girls - JAY-Z, The Blueprint (Explicit Version)\n",
      "Izzo (H.O.V.A.) - JAY-Z, The Blueprint (Explicit Version)\n",
      "Takeover - JAY-Z, The Blueprint (Explicit Version)\n",
      "The Ruler's Back - JAY-Z, The Blueprint (Explicit Version)\n",
      "タイムマシーン・ラヴ - Ryuusennkei, Tokyo Sniper\n",
      "I Believe (When I Fall in Love It Will Be Forever) - Stevie Wonder, Talking Book\n",
      "Lookin' For Another Pure Love (Album Version) - Stevie Wonder, Talking Book\n",
      "Blame It On The Sun (Album Version) - Stevie Wonder, Talking Book\n",
      "Big Brother (Album Version) - Stevie Wonder, Talking Book\n",
      "Superstition - Stevie Wonder, Talking Book\n",
      "You've Got It Bad Girl (Album Version) - Stevie Wonder, Talking Book\n",
      "Tuesday Heartbreak (Album Version) - Stevie Wonder, Talking Book\n",
      "You and I - Stevie Wonder, Talking Book\n",
      "Maybe Your Baby (Album Version) - Stevie Wonder, Talking Book\n",
      "You Are the Sunshine of My Life - Stevie Wonder, Talking Book\n",
      "Reaching 2 - Eden, ICYMI\n",
      "Elsewhere - Eden, ICYMI\n",
      "Duvidha - Eden, ICYMI\n",
      "call me back - Eden, ICYMI\n",
      "PS1 - Eden, ICYMI\n",
      "Closer 2 - Eden, ICYMI\n",
      "Waiting Room - Eden, ICYMI\n",
      "modern warfare - Eden, ICYMI\n",
      "Sci-Fi - Eden, ICYMI\n",
      "Balling - Eden, ICYMI\n",
      "A Call - Eden, ICYMI\n",
      "video games - Between Friends, i like when you shine!\n",
      "ok - Between Friends, i like when you shine!\n",
      "prescription - Between Friends, i like when you shine!\n",
      "tremolo - Between Friends, i like when you shine!\n",
      "sliding - Between Friends, i like when you shine!\n",
      "headache - Between Friends, i like when you shine!\n",
      "day dreaming - Between Friends, i like when you shine!\n",
      "ae86 - Between Friends, i like when you shine!\n",
      "gushers - Between Friends, i like when you shine!\n",
      "princess - Between Friends, i like when you shine!\n",
      "so into u - Between Friends, i like when you shine!\n",
      "i always had a thing for you - Between Friends, i like when you shine!\n",
      "i like you - Between Friends, i like when you shine!\n",
      "band_on_tha_run - Between Friends, i like when you shine!\n",
      "stay inside remix - Between Friends, i like when you shine!\n",
      "tired of your love - Between Friends, i like when you shine!\n",
      "reference bounce - Between Friends, i like when you shine!\n",
      "shiny - Between Friends, i like when you shine!\n",
      "lonely - Between Friends, i like when you shine!\n",
      "down - Between Friends, i like when you shine!\n"
     ]
    }
   ],
   "source": [
    "import csv\n",
    "import requests\n",
    "from bs4 import BeautifulSoup\n",
    "\n",
    "url = \"https://www.last.fm/user/Coopyland/library\"\n",
    "response = requests.get(url)\n",
    "\n",
    "if response.status_code == 200:\n",
    "    soup = BeautifulSoup(response.text, \"html.parser\")\n",
    "    musicas = soup.find_all(class_=\"chartlist-row\")\n",
    "\n",
    "    file = open(\"../data/historico.csv\", 'w', newline='')\n",
    "    writer = csv.writer(file)\n",
    "    headers = ['Musica', 'Artista', 'Album']\n",
    "\n",
    "    writer.writerow(headers)\n",
    "\n",
    "    for musica in musicas:\n",
    "        nome_da_musica = musica.find(class_=\"chartlist-name\").a.get('title')\n",
    "        nome_do_artista = musica.find(class_=\"chartlist-artist\").a.get('title')\n",
    "        nome_do_album = musica.find(class_=\"chartlist-image\").a.img.get('alt')\n",
    "\n",
    "        writer.writerow([nome_da_musica] + [nome_do_artista] + [nome_do_album])\n",
    "        print(nome_da_musica + ' - ' + nome_do_artista + ', ' + nome_do_album)\n",
    "\n",
    "    file.close()\n",
    "else:\n",
    "    print(\"Não foi possível acessar a página\")"
   ]
  },
  {
   "cell_type": "markdown",
   "metadata": {},
   "source": [
    "## 2 - Script que salva os albuns na homepage do rateyourmusic"
   ]
  },
  {
   "cell_type": "code",
   "execution_count": 26,
   "metadata": {},
   "outputs": [
    {
     "name": "stdout",
     "output_type": "stream",
     "text": [
      "Destiny - 2023 - DJ Sabrina the Teenage DJ -  3.88\n",
      "ↀ - 2023 - tripleS -  3.67\n",
      "Double Trio - 2023 - By Storm -  4.18\n",
      "AE_Live 2022－ - 2023 - Autechre -  4.30\n",
      "The Death of Randy Fitzsimmons - 2023 - The Hives -  3.45\n",
      "Radio Red - 2023 - Laura Groves -  3.27\n",
      "Blonde - 2016 - Frank Ocean -  4.09\n",
      "Loud City Song - 2013 - Julia Holter -  3.74\n",
      "Kind of Blue - 1959 - Miles Davis -  4.23\n",
      "Bossanova - 1990 - Pixies -  3.68\n",
      "Knees - 2021 - Injury Reserve -  4.14\n",
      "Sundial - 2023 - Noname -  3.08\n",
      "Get Up - 2023 - NewJeans -  3.52\n",
      "Soft Landing - 2023 - Art School Girlfriend -  3.40\n"
     ]
    }
   ],
   "source": [
    "import csv\n",
    "import requests\n",
    "from bs4 import BeautifulSoup\n",
    "\n",
    "url = \"http://webcache.googleusercontent.com/search?q=cache:http://rateyourmusic.com/\"\n",
    "\n",
    "response = requests.get(url)\n",
    "\n",
    "if response.status_code == 200:\n",
    "    soup = BeautifulSoup(response.text, \"html.parser\")\n",
    "\n",
    "    file = open(\"../data/homepage.csv\", 'w', newline='')\n",
    "    writer = csv.writer(file)\n",
    "    writer.writerow(['Album', 'Ano', 'Artista', 'Nota'])\n",
    "\n",
    "    items = soup.find_all(class_=\"page_feature_main\")\n",
    "\n",
    "    for item in items:\n",
    "        nome_do_album = item.find(class_=\"album\").string\n",
    "        ano_lancamento = item.find(class_=\"page_feature_title_year\").string[1:-1]\n",
    "        nome_do_artista = item.find(class_=\"artist\").string\n",
    "        nota = item.find(class_=\"page_features_secondary_metadata_rating_final\").b.string\n",
    "        \n",
    "        if nome_do_artista == None:\n",
    "            continue\n",
    "\n",
    "        writer.writerow([nome_do_album] + [ano_lancamento] + [nome_do_artista] + [nota])\n",
    "        print(nome_do_album + ' - ' + ano_lancamento + ' - ' + nome_do_artista + ' - ' + nota)\n",
    "    \n",
    "    file.close()\n",
    "else:\n",
    "    print(\"Falha na requisição\")"
   ]
  },
  {
   "cell_type": "markdown",
   "metadata": {},
   "source": [
    "## 3 - Script que salva os albuns com maior nota do ano no metacritic"
   ]
  }
 ],
 "metadata": {
  "kernelspec": {
   "display_name": "Python 3.10.4 64-bit",
   "language": "python",
   "name": "python3"
  },
  "language_info": {
   "codemirror_mode": {
    "name": "ipython",
    "version": 3
   },
   "file_extension": ".py",
   "mimetype": "text/x-python",
   "name": "python",
   "nbconvert_exporter": "python",
   "pygments_lexer": "ipython3",
   "version": "3.10.8"
  },
  "orig_nbformat": 4,
  "vscode": {
   "interpreter": {
    "hash": "3ad933181bd8a04b432d3370b9dc3b0662ad032c4dfaa4e4f1596c548f763858"
   }
  }
 },
 "nbformat": 4,
 "nbformat_minor": 2
}
