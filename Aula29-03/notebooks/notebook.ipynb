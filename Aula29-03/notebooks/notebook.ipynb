{
 "cells": [
  {
   "cell_type": "markdown",
   "metadata": {},
   "source": [
    "# Carregando a base de dados"
   ]
  },
  {
   "cell_type": "code",
   "execution_count": 46,
   "metadata": {},
   "outputs": [],
   "source": [
    "# importando bibliotecas necessarias\n",
    "import pandas as pd"
   ]
  },
  {
   "cell_type": "markdown",
   "metadata": {},
   "source": [
    "Carregar base de dados usando ';' como separador e indicando que a coluna 'Data' é uma data"
   ]
  },
  {
   "cell_type": "code",
   "execution_count": 47,
   "metadata": {},
   "outputs": [
    {
     "data": {
      "text/plain": [
       "(50000, 6)"
      ]
     },
     "execution_count": 47,
     "metadata": {},
     "output_type": "execute_result"
    }
   ],
   "source": [
    "# lendo a base de dados e indicando que a coluna 'Data' é uma data\n",
    "dados_terremotos = pd.read_csv('../data/terremotos.csv', sep=';', parse_dates=['Data'])\n",
    "\n",
    "dados_terremotos.shape"
   ]
  },
  {
   "cell_type": "code",
   "execution_count": 48,
   "metadata": {},
   "outputs": [
    {
     "data": {
      "text/html": [
       "<div>\n",
       "<style scoped>\n",
       "    .dataframe tbody tr th:only-of-type {\n",
       "        vertical-align: middle;\n",
       "    }\n",
       "\n",
       "    .dataframe tbody tr th {\n",
       "        vertical-align: top;\n",
       "    }\n",
       "\n",
       "    .dataframe thead th {\n",
       "        text-align: right;\n",
       "    }\n",
       "</style>\n",
       "<table border=\"1\" class=\"dataframe\">\n",
       "  <thead>\n",
       "    <tr style=\"text-align: right;\">\n",
       "      <th></th>\n",
       "      <th>Num</th>\n",
       "      <th>Data</th>\n",
       "      <th>Hora</th>\n",
       "      <th>Profundidade(km)</th>\n",
       "      <th>Magnitude</th>\n",
       "      <th>Tipo</th>\n",
       "    </tr>\n",
       "  </thead>\n",
       "  <tbody>\n",
       "    <tr>\n",
       "      <th>0</th>\n",
       "      <td>1</td>\n",
       "      <td>2023-07-31</td>\n",
       "      <td>21:53:38.29</td>\n",
       "      <td>4.0</td>\n",
       "      <td>3.5</td>\n",
       "      <td>Ke</td>\n",
       "    </tr>\n",
       "    <tr>\n",
       "      <th>1</th>\n",
       "      <td>2</td>\n",
       "      <td>2023-07-31</td>\n",
       "      <td>15:23:16.85</td>\n",
       "      <td>5.2</td>\n",
       "      <td>3.5</td>\n",
       "      <td>Ke</td>\n",
       "    </tr>\n",
       "    <tr>\n",
       "      <th>2</th>\n",
       "      <td>3</td>\n",
       "      <td>2023-07-31</td>\n",
       "      <td>02:50:49.84</td>\n",
       "      <td>6.2</td>\n",
       "      <td>3.0</td>\n",
       "      <td>Ke</td>\n",
       "    </tr>\n",
       "    <tr>\n",
       "      <th>3</th>\n",
       "      <td>4</td>\n",
       "      <td>2023-07-30</td>\n",
       "      <td>20:19:40.49</td>\n",
       "      <td>5.3</td>\n",
       "      <td>3.1</td>\n",
       "      <td>Ke</td>\n",
       "    </tr>\n",
       "    <tr>\n",
       "      <th>4</th>\n",
       "      <td>5</td>\n",
       "      <td>2023-07-30</td>\n",
       "      <td>16:13:52.62</td>\n",
       "      <td>2.4</td>\n",
       "      <td>3.0</td>\n",
       "      <td>Ke</td>\n",
       "    </tr>\n",
       "  </tbody>\n",
       "</table>\n",
       "</div>"
      ],
      "text/plain": [
       "   Num       Data         Hora  Profundidade(km)  Magnitude Tipo\n",
       "0    1 2023-07-31  21:53:38.29               4.0        3.5   Ke\n",
       "1    2 2023-07-31  15:23:16.85               5.2        3.5   Ke\n",
       "2    3 2023-07-31  02:50:49.84               6.2        3.0   Ke\n",
       "3    4 2023-07-30  20:19:40.49               5.3        3.1   Ke\n",
       "4    5 2023-07-30  16:13:52.62               2.4        3.0   Ke"
      ]
     },
     "execution_count": 48,
     "metadata": {},
     "output_type": "execute_result"
    }
   ],
   "source": [
    "# visualizando as primeiras linhas para checar que deu certo\n",
    "dados_terremotos.head()"
   ]
  },
  {
   "cell_type": "code",
   "execution_count": 49,
   "metadata": {},
   "outputs": [
    {
     "data": {
      "text/plain": [
       "Num                          int64\n",
       "Data                datetime64[ns]\n",
       "Hora                        object\n",
       "Profundidade(km)           float64\n",
       "Magnitude                  float64\n",
       "Tipo                        object\n",
       "dtype: object"
      ]
     },
     "execution_count": 49,
     "metadata": {},
     "output_type": "execute_result"
    }
   ],
   "source": [
    "# ver os tipos de cada coluna\n",
    "dados_terremotos.dtypes"
   ]
  },
  {
   "cell_type": "code",
   "execution_count": 50,
   "metadata": {},
   "outputs": [
    {
     "data": {
      "text/plain": [
       "Num                 0\n",
       "Data                0\n",
       "Hora                0\n",
       "Profundidade(km)    0\n",
       "Magnitude           0\n",
       "Tipo                0\n",
       "dtype: int64"
      ]
     },
     "execution_count": 50,
     "metadata": {},
     "output_type": "execute_result"
    }
   ],
   "source": [
    "# ver quantidade de dados nulos em cada coluna\n",
    "dados_terremotos.isnull().sum()"
   ]
  },
  {
   "cell_type": "markdown",
   "metadata": {},
   "source": [
    "# 3. Transformação de dados"
   ]
  },
  {
   "cell_type": "markdown",
   "metadata": {},
   "source": [
    "## 3.1 Mudar representação de variável"
   ]
  },
  {
   "cell_type": "code",
   "execution_count": 51,
   "metadata": {},
   "outputs": [
    {
     "data": {
      "text/plain": [
       "Ke    49886\n",
       "Sm      114\n",
       "Name: Tipo, dtype: int64"
      ]
     },
     "execution_count": 51,
     "metadata": {},
     "output_type": "execute_result"
    }
   ],
   "source": [
    "# contar a quantidade de cada valor distinto na coluna 'Tipo'\n",
    "dados_terremotos['Tipo'].value_counts()"
   ]
  },
  {
   "cell_type": "code",
   "execution_count": 52,
   "metadata": {},
   "outputs": [],
   "source": [
    "from sklearn.preprocessing import LabelEncoder"
   ]
  },
  {
   "cell_type": "code",
   "execution_count": 53,
   "metadata": {},
   "outputs": [
    {
     "name": "stderr",
     "output_type": "stream",
     "text": [
      "/tmp/ipykernel_13998/3696924610.py:2: DeprecationWarning: In a future version, `df.iloc[:, i] = newvals` will attempt to set the values inplace instead of always setting a new array. To retain the old behavior, use either `df[df.columns[i]] = newvals` or, if columns are non-unique, `df.isetitem(i, newvals)`\n",
      "  dados_terremotos.iloc[:, 5] = le.fit_transform(dados_terremotos.iloc[:, 5])\n"
     ]
    },
    {
     "data": {
      "text/plain": [
       "<bound method NDFrame.head of          Num       Data         Hora  Profundidade(km)  Magnitude  Tipo\n",
       "0          1 2023-07-31  21:53:38.29               4.0        3.5     0\n",
       "1          2 2023-07-31  15:23:16.85               5.2        3.5     0\n",
       "2          3 2023-07-31  02:50:49.84               6.2        3.0     0\n",
       "3          4 2023-07-30  20:19:40.49               5.3        3.1     0\n",
       "4          5 2023-07-30  16:13:52.62               2.4        3.0     0\n",
       "...      ...        ...          ...               ...        ...   ...\n",
       "49995  49996 1994-09-16  07:11:48.90               4.0        3.0     0\n",
       "49996  49997 1994-09-15  10:40:46.50               6.0        3.2     0\n",
       "49997  49998 1994-09-13  22:02:02.00               2.0        3.0     0\n",
       "49998  49999 1994-09-13  01:00:48.00              18.0        3.5     0\n",
       "49999  50000 1994-09-11  07:03:48.00               4.0        3.1     0\n",
       "\n",
       "[50000 rows x 6 columns]>"
      ]
     },
     "execution_count": 53,
     "metadata": {},
     "output_type": "execute_result"
    }
   ],
   "source": [
    "le = LabelEncoder()\n",
    "dados_terremotos.iloc[:, 5] = le.fit_transform(dados_terremotos.iloc[:, 5])\n",
    "dados_terremotos.head"
   ]
  },
  {
   "cell_type": "markdown",
   "metadata": {},
   "source": [
    "## 3.2 Horas e Datas"
   ]
  },
  {
   "cell_type": "code",
   "execution_count": 54,
   "metadata": {},
   "outputs": [],
   "source": [
    "import datetime\n",
    "\n",
    "dados_terremotos['Ano'] = dados_terremotos['Data'].dt.year\n",
    "dados_terremotos['Mes'] = dados_terremotos['Data'].dt.month"
   ]
  },
  {
   "cell_type": "code",
   "execution_count": 55,
   "metadata": {},
   "outputs": [],
   "source": [
    "dados_terremotos['Hora_'] = pd.to_datetime(dados_terremotos['Hora'], format=\"%H:%M:%S.%f\").dt.hour"
   ]
  },
  {
   "cell_type": "code",
   "execution_count": 56,
   "metadata": {},
   "outputs": [
    {
     "data": {
      "text/html": [
       "<div>\n",
       "<style scoped>\n",
       "    .dataframe tbody tr th:only-of-type {\n",
       "        vertical-align: middle;\n",
       "    }\n",
       "\n",
       "    .dataframe tbody tr th {\n",
       "        vertical-align: top;\n",
       "    }\n",
       "\n",
       "    .dataframe thead th {\n",
       "        text-align: right;\n",
       "    }\n",
       "</style>\n",
       "<table border=\"1\" class=\"dataframe\">\n",
       "  <thead>\n",
       "    <tr style=\"text-align: right;\">\n",
       "      <th></th>\n",
       "      <th>Num</th>\n",
       "      <th>Data</th>\n",
       "      <th>Hora</th>\n",
       "      <th>Profundidade(km)</th>\n",
       "      <th>Magnitude</th>\n",
       "      <th>Tipo</th>\n",
       "      <th>Ano</th>\n",
       "      <th>Mes</th>\n",
       "      <th>Hora_</th>\n",
       "    </tr>\n",
       "  </thead>\n",
       "  <tbody>\n",
       "    <tr>\n",
       "      <th>0</th>\n",
       "      <td>1</td>\n",
       "      <td>2023-07-31</td>\n",
       "      <td>21:53:38.29</td>\n",
       "      <td>4.0</td>\n",
       "      <td>3.5</td>\n",
       "      <td>0</td>\n",
       "      <td>2023</td>\n",
       "      <td>7</td>\n",
       "      <td>21</td>\n",
       "    </tr>\n",
       "    <tr>\n",
       "      <th>1</th>\n",
       "      <td>2</td>\n",
       "      <td>2023-07-31</td>\n",
       "      <td>15:23:16.85</td>\n",
       "      <td>5.2</td>\n",
       "      <td>3.5</td>\n",
       "      <td>0</td>\n",
       "      <td>2023</td>\n",
       "      <td>7</td>\n",
       "      <td>15</td>\n",
       "    </tr>\n",
       "    <tr>\n",
       "      <th>2</th>\n",
       "      <td>3</td>\n",
       "      <td>2023-07-31</td>\n",
       "      <td>02:50:49.84</td>\n",
       "      <td>6.2</td>\n",
       "      <td>3.0</td>\n",
       "      <td>0</td>\n",
       "      <td>2023</td>\n",
       "      <td>7</td>\n",
       "      <td>2</td>\n",
       "    </tr>\n",
       "    <tr>\n",
       "      <th>3</th>\n",
       "      <td>4</td>\n",
       "      <td>2023-07-30</td>\n",
       "      <td>20:19:40.49</td>\n",
       "      <td>5.3</td>\n",
       "      <td>3.1</td>\n",
       "      <td>0</td>\n",
       "      <td>2023</td>\n",
       "      <td>7</td>\n",
       "      <td>20</td>\n",
       "    </tr>\n",
       "    <tr>\n",
       "      <th>4</th>\n",
       "      <td>5</td>\n",
       "      <td>2023-07-30</td>\n",
       "      <td>16:13:52.62</td>\n",
       "      <td>2.4</td>\n",
       "      <td>3.0</td>\n",
       "      <td>0</td>\n",
       "      <td>2023</td>\n",
       "      <td>7</td>\n",
       "      <td>16</td>\n",
       "    </tr>\n",
       "    <tr>\n",
       "      <th>...</th>\n",
       "      <td>...</td>\n",
       "      <td>...</td>\n",
       "      <td>...</td>\n",
       "      <td>...</td>\n",
       "      <td>...</td>\n",
       "      <td>...</td>\n",
       "      <td>...</td>\n",
       "      <td>...</td>\n",
       "      <td>...</td>\n",
       "    </tr>\n",
       "    <tr>\n",
       "      <th>49995</th>\n",
       "      <td>49996</td>\n",
       "      <td>1994-09-16</td>\n",
       "      <td>07:11:48.90</td>\n",
       "      <td>4.0</td>\n",
       "      <td>3.0</td>\n",
       "      <td>0</td>\n",
       "      <td>1994</td>\n",
       "      <td>9</td>\n",
       "      <td>7</td>\n",
       "    </tr>\n",
       "    <tr>\n",
       "      <th>49996</th>\n",
       "      <td>49997</td>\n",
       "      <td>1994-09-15</td>\n",
       "      <td>10:40:46.50</td>\n",
       "      <td>6.0</td>\n",
       "      <td>3.2</td>\n",
       "      <td>0</td>\n",
       "      <td>1994</td>\n",
       "      <td>9</td>\n",
       "      <td>10</td>\n",
       "    </tr>\n",
       "    <tr>\n",
       "      <th>49997</th>\n",
       "      <td>49998</td>\n",
       "      <td>1994-09-13</td>\n",
       "      <td>22:02:02.00</td>\n",
       "      <td>2.0</td>\n",
       "      <td>3.0</td>\n",
       "      <td>0</td>\n",
       "      <td>1994</td>\n",
       "      <td>9</td>\n",
       "      <td>22</td>\n",
       "    </tr>\n",
       "    <tr>\n",
       "      <th>49998</th>\n",
       "      <td>49999</td>\n",
       "      <td>1994-09-13</td>\n",
       "      <td>01:00:48.00</td>\n",
       "      <td>18.0</td>\n",
       "      <td>3.5</td>\n",
       "      <td>0</td>\n",
       "      <td>1994</td>\n",
       "      <td>9</td>\n",
       "      <td>1</td>\n",
       "    </tr>\n",
       "    <tr>\n",
       "      <th>49999</th>\n",
       "      <td>50000</td>\n",
       "      <td>1994-09-11</td>\n",
       "      <td>07:03:48.00</td>\n",
       "      <td>4.0</td>\n",
       "      <td>3.1</td>\n",
       "      <td>0</td>\n",
       "      <td>1994</td>\n",
       "      <td>9</td>\n",
       "      <td>7</td>\n",
       "    </tr>\n",
       "  </tbody>\n",
       "</table>\n",
       "<p>50000 rows × 9 columns</p>\n",
       "</div>"
      ],
      "text/plain": [
       "         Num       Data         Hora  Profundidade(km)  Magnitude  Tipo   Ano  \\\n",
       "0          1 2023-07-31  21:53:38.29               4.0        3.5     0  2023   \n",
       "1          2 2023-07-31  15:23:16.85               5.2        3.5     0  2023   \n",
       "2          3 2023-07-31  02:50:49.84               6.2        3.0     0  2023   \n",
       "3          4 2023-07-30  20:19:40.49               5.3        3.1     0  2023   \n",
       "4          5 2023-07-30  16:13:52.62               2.4        3.0     0  2023   \n",
       "...      ...        ...          ...               ...        ...   ...   ...   \n",
       "49995  49996 1994-09-16  07:11:48.90               4.0        3.0     0  1994   \n",
       "49996  49997 1994-09-15  10:40:46.50               6.0        3.2     0  1994   \n",
       "49997  49998 1994-09-13  22:02:02.00               2.0        3.0     0  1994   \n",
       "49998  49999 1994-09-13  01:00:48.00              18.0        3.5     0  1994   \n",
       "49999  50000 1994-09-11  07:03:48.00               4.0        3.1     0  1994   \n",
       "\n",
       "       Mes  Hora_  \n",
       "0        7     21  \n",
       "1        7     15  \n",
       "2        7      2  \n",
       "3        7     20  \n",
       "4        7     16  \n",
       "...    ...    ...  \n",
       "49995    9      7  \n",
       "49996    9     10  \n",
       "49997    9     22  \n",
       "49998    9      1  \n",
       "49999    9      7  \n",
       "\n",
       "[50000 rows x 9 columns]"
      ]
     },
     "execution_count": 56,
     "metadata": {},
     "output_type": "execute_result"
    }
   ],
   "source": [
    "dados_terremotos"
   ]
  },
  {
   "cell_type": "markdown",
   "metadata": {},
   "source": [
    "# 4. Exportar para CSV"
   ]
  },
  {
   "cell_type": "code",
   "execution_count": 57,
   "metadata": {},
   "outputs": [],
   "source": [
    "dados_terremotos.to_csv('../data/dados_terremotos_processados.csv')"
   ]
  }
 ],
 "metadata": {
  "kernelspec": {
   "display_name": "Python 3",
   "language": "python",
   "name": "python3"
  },
  "language_info": {
   "codemirror_mode": {
    "name": "ipython",
    "version": 3
   },
   "file_extension": ".py",
   "mimetype": "text/x-python",
   "name": "python",
   "nbconvert_exporter": "python",
   "pygments_lexer": "ipython3",
   "version": "3.10.8"
  },
  "orig_nbformat": 4
 },
 "nbformat": 4,
 "nbformat_minor": 2
}
